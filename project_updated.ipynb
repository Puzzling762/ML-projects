{
 "cells": [
  {
   "cell_type": "code",
   "execution_count": 1,
   "id": "5845eec1",
   "metadata": {},
   "outputs": [],
   "source": [
    "import numpy as np\n",
    "import pandas as pd\n",
    "import matplotlib.pyplot as plt\n"
   ]
  },
  {
   "cell_type": "code",
   "execution_count": 2,
   "id": "63538dfd",
   "metadata": {},
   "outputs": [],
   "source": [
    "dataset=pd.read_csv('Epl.csv')\n",
    "X = dataset['Squad Value']\n",
    "y = dataset['Points']"
   ]
  },
  {
   "cell_type": "code",
   "execution_count": null,
   "id": "78c72065",
   "metadata": {},
   "outputs": [],
   "source": []
  },
  {
   "cell_type": "code",
   "execution_count": 3,
   "id": "d25b62ed",
   "metadata": {},
   "outputs": [
    {
     "data": {
      "text/html": [
       "<div>\n",
       "<style scoped>\n",
       "    .dataframe tbody tr th:only-of-type {\n",
       "        vertical-align: middle;\n",
       "    }\n",
       "\n",
       "    .dataframe tbody tr th {\n",
       "        vertical-align: top;\n",
       "    }\n",
       "\n",
       "    .dataframe thead th {\n",
       "        text-align: right;\n",
       "    }\n",
       "</style>\n",
       "<table border=\"1\" class=\"dataframe\">\n",
       "  <thead>\n",
       "    <tr style=\"text-align: right;\">\n",
       "      <th></th>\n",
       "      <th>League</th>\n",
       "      <th>Season</th>\n",
       "      <th>Team</th>\n",
       "      <th>Squad</th>\n",
       "      <th>Average Age</th>\n",
       "      <th>Non-Homegrown</th>\n",
       "      <th>Squad Value</th>\n",
       "      <th>Avg Player Value</th>\n",
       "      <th>GD</th>\n",
       "      <th>Points</th>\n",
       "      <th>Position</th>\n",
       "    </tr>\n",
       "  </thead>\n",
       "  <tbody>\n",
       "    <tr>\n",
       "      <th>0</th>\n",
       "      <td>EPL</td>\n",
       "      <td>2008</td>\n",
       "      <td>Chelsea FC</td>\n",
       "      <td>28</td>\n",
       "      <td>25.6</td>\n",
       "      <td>21</td>\n",
       "      <td>406.70</td>\n",
       "      <td>14.53</td>\n",
       "      <td>44</td>\n",
       "      <td>83</td>\n",
       "      <td>3</td>\n",
       "    </tr>\n",
       "    <tr>\n",
       "      <th>1</th>\n",
       "      <td>EPL</td>\n",
       "      <td>2008</td>\n",
       "      <td>Manchester United</td>\n",
       "      <td>31</td>\n",
       "      <td>24.3</td>\n",
       "      <td>20</td>\n",
       "      <td>356.10</td>\n",
       "      <td>11.49</td>\n",
       "      <td>44</td>\n",
       "      <td>90</td>\n",
       "      <td>1</td>\n",
       "    </tr>\n",
       "    <tr>\n",
       "      <th>2</th>\n",
       "      <td>EPL</td>\n",
       "      <td>2008</td>\n",
       "      <td>Liverpool FC</td>\n",
       "      <td>28</td>\n",
       "      <td>23.9</td>\n",
       "      <td>24</td>\n",
       "      <td>257.23</td>\n",
       "      <td>9.19</td>\n",
       "      <td>50</td>\n",
       "      <td>86</td>\n",
       "      <td>2</td>\n",
       "    </tr>\n",
       "    <tr>\n",
       "      <th>3</th>\n",
       "      <td>EPL</td>\n",
       "      <td>2008</td>\n",
       "      <td>Arsenal FC</td>\n",
       "      <td>38</td>\n",
       "      <td>21.3</td>\n",
       "      <td>30</td>\n",
       "      <td>250.85</td>\n",
       "      <td>6.6</td>\n",
       "      <td>31</td>\n",
       "      <td>72</td>\n",
       "      <td>4</td>\n",
       "    </tr>\n",
       "    <tr>\n",
       "      <th>4</th>\n",
       "      <td>EPL</td>\n",
       "      <td>2008</td>\n",
       "      <td>Tottenham Hotspur</td>\n",
       "      <td>35</td>\n",
       "      <td>22.5</td>\n",
       "      <td>18</td>\n",
       "      <td>212.60</td>\n",
       "      <td>6.07</td>\n",
       "      <td>0</td>\n",
       "      <td>51</td>\n",
       "      <td>8</td>\n",
       "    </tr>\n",
       "  </tbody>\n",
       "</table>\n",
       "</div>"
      ],
      "text/plain": [
       "  League  Season               Team  Squad  Average Age  Non-Homegrown  \\\n",
       "0    EPL    2008         Chelsea FC     28         25.6             21   \n",
       "1    EPL    2008  Manchester United     31         24.3             20   \n",
       "2    EPL    2008       Liverpool FC     28         23.9             24   \n",
       "3    EPL    2008         Arsenal FC     38         21.3             30   \n",
       "4    EPL    2008  Tottenham Hotspur     35         22.5             18   \n",
       "\n",
       "   Squad Value Avg Player Value  GD  Points  Position  \n",
       "0       406.70            14.53  44      83         3  \n",
       "1       356.10            11.49  44      90         1  \n",
       "2       257.23             9.19  50      86         2  \n",
       "3       250.85              6.6  31      72         4  \n",
       "4       212.60             6.07   0      51         8  "
      ]
     },
     "execution_count": 3,
     "metadata": {},
     "output_type": "execute_result"
    }
   ],
   "source": [
    "dataset.head()"
   ]
  },
  {
   "cell_type": "code",
   "execution_count": 4,
   "id": "1bd65ab3",
   "metadata": {},
   "outputs": [
    {
     "data": {
      "text/html": [
       "<div>\n",
       "<style scoped>\n",
       "    .dataframe tbody tr th:only-of-type {\n",
       "        vertical-align: middle;\n",
       "    }\n",
       "\n",
       "    .dataframe tbody tr th {\n",
       "        vertical-align: top;\n",
       "    }\n",
       "\n",
       "    .dataframe thead th {\n",
       "        text-align: right;\n",
       "    }\n",
       "</style>\n",
       "<table border=\"1\" class=\"dataframe\">\n",
       "  <thead>\n",
       "    <tr style=\"text-align: right;\">\n",
       "      <th></th>\n",
       "      <th>Season</th>\n",
       "      <th>Squad</th>\n",
       "      <th>Average Age</th>\n",
       "      <th>Non-Homegrown</th>\n",
       "      <th>Squad Value</th>\n",
       "      <th>GD</th>\n",
       "      <th>Points</th>\n",
       "      <th>Position</th>\n",
       "    </tr>\n",
       "  </thead>\n",
       "  <tbody>\n",
       "    <tr>\n",
       "      <th>count</th>\n",
       "      <td>220.000000</td>\n",
       "      <td>220.000000</td>\n",
       "      <td>220.000000</td>\n",
       "      <td>220.000000</td>\n",
       "      <td>220.000000</td>\n",
       "      <td>220.000000</td>\n",
       "      <td>220.000000</td>\n",
       "      <td>220.000000</td>\n",
       "    </tr>\n",
       "    <tr>\n",
       "      <th>mean</th>\n",
       "      <td>2013.000000</td>\n",
       "      <td>36.304545</td>\n",
       "      <td>24.793636</td>\n",
       "      <td>22.886364</td>\n",
       "      <td>225.792909</td>\n",
       "      <td>0.000000</td>\n",
       "      <td>52.245455</td>\n",
       "      <td>10.500000</td>\n",
       "    </tr>\n",
       "    <tr>\n",
       "      <th>std</th>\n",
       "      <td>3.169489</td>\n",
       "      <td>5.410372</td>\n",
       "      <td>1.136427</td>\n",
       "      <td>5.377171</td>\n",
       "      <td>183.079602</td>\n",
       "      <td>27.061405</td>\n",
       "      <td>17.569788</td>\n",
       "      <td>5.779431</td>\n",
       "    </tr>\n",
       "    <tr>\n",
       "      <th>min</th>\n",
       "      <td>2008.000000</td>\n",
       "      <td>21.000000</td>\n",
       "      <td>21.300000</td>\n",
       "      <td>8.000000</td>\n",
       "      <td>22.500000</td>\n",
       "      <td>-54.000000</td>\n",
       "      <td>16.000000</td>\n",
       "      <td>1.000000</td>\n",
       "    </tr>\n",
       "    <tr>\n",
       "      <th>25%</th>\n",
       "      <td>2010.000000</td>\n",
       "      <td>33.000000</td>\n",
       "      <td>23.975000</td>\n",
       "      <td>19.000000</td>\n",
       "      <td>99.662500</td>\n",
       "      <td>-20.000000</td>\n",
       "      <td>40.000000</td>\n",
       "      <td>5.750000</td>\n",
       "    </tr>\n",
       "    <tr>\n",
       "      <th>50%</th>\n",
       "      <td>2013.000000</td>\n",
       "      <td>36.000000</td>\n",
       "      <td>24.800000</td>\n",
       "      <td>22.000000</td>\n",
       "      <td>158.275000</td>\n",
       "      <td>-7.000000</td>\n",
       "      <td>47.000000</td>\n",
       "      <td>10.500000</td>\n",
       "    </tr>\n",
       "    <tr>\n",
       "      <th>75%</th>\n",
       "      <td>2016.000000</td>\n",
       "      <td>40.000000</td>\n",
       "      <td>25.500000</td>\n",
       "      <td>26.000000</td>\n",
       "      <td>299.782500</td>\n",
       "      <td>20.250000</td>\n",
       "      <td>64.250000</td>\n",
       "      <td>15.250000</td>\n",
       "    </tr>\n",
       "    <tr>\n",
       "      <th>max</th>\n",
       "      <td>2018.000000</td>\n",
       "      <td>54.000000</td>\n",
       "      <td>28.100000</td>\n",
       "      <td>41.000000</td>\n",
       "      <td>1000.100000</td>\n",
       "      <td>79.000000</td>\n",
       "      <td>100.000000</td>\n",
       "      <td>20.000000</td>\n",
       "    </tr>\n",
       "  </tbody>\n",
       "</table>\n",
       "</div>"
      ],
      "text/plain": [
       "            Season       Squad  Average Age  Non-Homegrown  Squad Value  \\\n",
       "count   220.000000  220.000000   220.000000     220.000000   220.000000   \n",
       "mean   2013.000000   36.304545    24.793636      22.886364   225.792909   \n",
       "std       3.169489    5.410372     1.136427       5.377171   183.079602   \n",
       "min    2008.000000   21.000000    21.300000       8.000000    22.500000   \n",
       "25%    2010.000000   33.000000    23.975000      19.000000    99.662500   \n",
       "50%    2013.000000   36.000000    24.800000      22.000000   158.275000   \n",
       "75%    2016.000000   40.000000    25.500000      26.000000   299.782500   \n",
       "max    2018.000000   54.000000    28.100000      41.000000  1000.100000   \n",
       "\n",
       "               GD      Points    Position  \n",
       "count  220.000000  220.000000  220.000000  \n",
       "mean     0.000000   52.245455   10.500000  \n",
       "std     27.061405   17.569788    5.779431  \n",
       "min    -54.000000   16.000000    1.000000  \n",
       "25%    -20.000000   40.000000    5.750000  \n",
       "50%     -7.000000   47.000000   10.500000  \n",
       "75%     20.250000   64.250000   15.250000  \n",
       "max     79.000000  100.000000   20.000000  "
      ]
     },
     "execution_count": 4,
     "metadata": {},
     "output_type": "execute_result"
    }
   ],
   "source": [
    "dataset.describe()"
   ]
  },
  {
   "cell_type": "code",
   "execution_count": 5,
   "id": "1838e5ba",
   "metadata": {},
   "outputs": [],
   "source": [
    "from sklearn.model_selection import train_test_split\n",
    "X_train, X_test, y_train, y_test = train_test_split(X, y, test_size = 1/3, random_state = 0)"
   ]
  },
  {
   "cell_type": "code",
   "execution_count": 6,
   "id": "ba7f56e6",
   "metadata": {},
   "outputs": [
    {
     "data": {
      "text/plain": [
       "(146,)"
      ]
     },
     "execution_count": 6,
     "metadata": {},
     "output_type": "execute_result"
    }
   ],
   "source": [
    "X_train.shape\n"
   ]
  },
  {
   "cell_type": "code",
   "execution_count": 7,
   "id": "bf8e1629",
   "metadata": {},
   "outputs": [],
   "source": [
    "import numpy as np\n",
    "\n",
    "# Assuming X_train and y_train are pandas Series\n",
    "X_train = X_train.values.reshape(-1, 1)\n",
    "y_train= y_train.values.reshape(-1, 1)"
   ]
  },
  {
   "cell_type": "code",
   "execution_count": 8,
   "id": "dd3a1dcf",
   "metadata": {},
   "outputs": [
    {
     "data": {
      "text/html": [
       "<style>#sk-container-id-1 {color: black;}#sk-container-id-1 pre{padding: 0;}#sk-container-id-1 div.sk-toggleable {background-color: white;}#sk-container-id-1 label.sk-toggleable__label {cursor: pointer;display: block;width: 100%;margin-bottom: 0;padding: 0.3em;box-sizing: border-box;text-align: center;}#sk-container-id-1 label.sk-toggleable__label-arrow:before {content: \"▸\";float: left;margin-right: 0.25em;color: #696969;}#sk-container-id-1 label.sk-toggleable__label-arrow:hover:before {color: black;}#sk-container-id-1 div.sk-estimator:hover label.sk-toggleable__label-arrow:before {color: black;}#sk-container-id-1 div.sk-toggleable__content {max-height: 0;max-width: 0;overflow: hidden;text-align: left;background-color: #f0f8ff;}#sk-container-id-1 div.sk-toggleable__content pre {margin: 0.2em;color: black;border-radius: 0.25em;background-color: #f0f8ff;}#sk-container-id-1 input.sk-toggleable__control:checked~div.sk-toggleable__content {max-height: 200px;max-width: 100%;overflow: auto;}#sk-container-id-1 input.sk-toggleable__control:checked~label.sk-toggleable__label-arrow:before {content: \"▾\";}#sk-container-id-1 div.sk-estimator input.sk-toggleable__control:checked~label.sk-toggleable__label {background-color: #d4ebff;}#sk-container-id-1 div.sk-label input.sk-toggleable__control:checked~label.sk-toggleable__label {background-color: #d4ebff;}#sk-container-id-1 input.sk-hidden--visually {border: 0;clip: rect(1px 1px 1px 1px);clip: rect(1px, 1px, 1px, 1px);height: 1px;margin: -1px;overflow: hidden;padding: 0;position: absolute;width: 1px;}#sk-container-id-1 div.sk-estimator {font-family: monospace;background-color: #f0f8ff;border: 1px dotted black;border-radius: 0.25em;box-sizing: border-box;margin-bottom: 0.5em;}#sk-container-id-1 div.sk-estimator:hover {background-color: #d4ebff;}#sk-container-id-1 div.sk-parallel-item::after {content: \"\";width: 100%;border-bottom: 1px solid gray;flex-grow: 1;}#sk-container-id-1 div.sk-label:hover label.sk-toggleable__label {background-color: #d4ebff;}#sk-container-id-1 div.sk-serial::before {content: \"\";position: absolute;border-left: 1px solid gray;box-sizing: border-box;top: 0;bottom: 0;left: 50%;z-index: 0;}#sk-container-id-1 div.sk-serial {display: flex;flex-direction: column;align-items: center;background-color: white;padding-right: 0.2em;padding-left: 0.2em;position: relative;}#sk-container-id-1 div.sk-item {position: relative;z-index: 1;}#sk-container-id-1 div.sk-parallel {display: flex;align-items: stretch;justify-content: center;background-color: white;position: relative;}#sk-container-id-1 div.sk-item::before, #sk-container-id-1 div.sk-parallel-item::before {content: \"\";position: absolute;border-left: 1px solid gray;box-sizing: border-box;top: 0;bottom: 0;left: 50%;z-index: -1;}#sk-container-id-1 div.sk-parallel-item {display: flex;flex-direction: column;z-index: 1;position: relative;background-color: white;}#sk-container-id-1 div.sk-parallel-item:first-child::after {align-self: flex-end;width: 50%;}#sk-container-id-1 div.sk-parallel-item:last-child::after {align-self: flex-start;width: 50%;}#sk-container-id-1 div.sk-parallel-item:only-child::after {width: 0;}#sk-container-id-1 div.sk-dashed-wrapped {border: 1px dashed gray;margin: 0 0.4em 0.5em 0.4em;box-sizing: border-box;padding-bottom: 0.4em;background-color: white;}#sk-container-id-1 div.sk-label label {font-family: monospace;font-weight: bold;display: inline-block;line-height: 1.2em;}#sk-container-id-1 div.sk-label-container {text-align: center;}#sk-container-id-1 div.sk-container {/* jupyter's `normalize.less` sets `[hidden] { display: none; }` but bootstrap.min.css set `[hidden] { display: none !important; }` so we also need the `!important` here to be able to override the default hidden behavior on the sphinx rendered scikit-learn.org. See: https://github.com/scikit-learn/scikit-learn/issues/21755 */display: inline-block !important;position: relative;}#sk-container-id-1 div.sk-text-repr-fallback {display: none;}</style><div id=\"sk-container-id-1\" class=\"sk-top-container\"><div class=\"sk-text-repr-fallback\"><pre>LinearRegression()</pre><b>In a Jupyter environment, please rerun this cell to show the HTML representation or trust the notebook. <br />On GitHub, the HTML representation is unable to render, please try loading this page with nbviewer.org.</b></div><div class=\"sk-container\" hidden><div class=\"sk-item\"><div class=\"sk-estimator sk-toggleable\"><input class=\"sk-toggleable__control sk-hidden--visually\" id=\"sk-estimator-id-1\" type=\"checkbox\" checked><label for=\"sk-estimator-id-1\" class=\"sk-toggleable__label sk-toggleable__label-arrow\">LinearRegression</label><div class=\"sk-toggleable__content\"><pre>LinearRegression()</pre></div></div></div></div></div>"
      ],
      "text/plain": [
       "LinearRegression()"
      ]
     },
     "execution_count": 8,
     "metadata": {},
     "output_type": "execute_result"
    }
   ],
   "source": [
    "from sklearn.linear_model import LinearRegression\n",
    "regressor = LinearRegression()\n",
    "regressor.fit(X_train, y_train)"
   ]
  },
  {
   "cell_type": "code",
   "execution_count": 9,
   "id": "13025517",
   "metadata": {},
   "outputs": [
    {
     "data": {
      "text/plain": [
       "(74,)"
      ]
     },
     "execution_count": 9,
     "metadata": {},
     "output_type": "execute_result"
    }
   ],
   "source": [
    "X_test.shape"
   ]
  },
  {
   "cell_type": "code",
   "execution_count": 10,
   "id": "e27cf0ef",
   "metadata": {},
   "outputs": [],
   "source": [
    "X=X.values.reshape(-1,1)\n",
    "y=y.values.reshape(-1,1)\n",
    "X_test=X_test.values.reshape(-1,1)\n",
    "y_test=y_test.values.reshape(-1,1)"
   ]
  },
  {
   "cell_type": "code",
   "execution_count": 11,
   "id": "9ae07366",
   "metadata": {},
   "outputs": [
    {
     "data": {
      "text/plain": [
       "(74, 1)"
      ]
     },
     "execution_count": 11,
     "metadata": {},
     "output_type": "execute_result"
    }
   ],
   "source": [
    "y_pred = regressor.predict(X_test)\n",
    "y_pred.shape\n"
   ]
  },
  {
   "cell_type": "code",
   "execution_count": 12,
   "id": "7a33ab68",
   "metadata": {},
   "outputs": [
    {
     "data": {
      "text/plain": [
       "array([[0.07408734]])"
      ]
     },
     "execution_count": 12,
     "metadata": {},
     "output_type": "execute_result"
    }
   ],
   "source": [
    "regressor.coef_"
   ]
  },
  {
   "cell_type": "code",
   "execution_count": 13,
   "id": "e94d806f",
   "metadata": {},
   "outputs": [
    {
     "data": {
      "image/png": "[encoded data removed]",
      "text/plain": [
       "<Figure size 640x480 with 1 Axes>"
      ]
     },
     "metadata": {},
     "output_type": "display_data"
    }
   ],
   "source": [
    "plt.scatter(X_train, y_train, color = 'red')\n",
    "plt.plot(X_train, regressor.predict(X_train), color = 'blue')\n",
    "plt.title('Squad Value vs Points (Training set)')\n",
    "plt.xlabel('Squad Value')\n",
    "plt.ylabel('Points')\n",
    "plt.show()"
   ]
  },
  {
   "cell_type": "code",
   "execution_count": 14,
   "id": "fce1f4b6",
   "metadata": {},
   "outputs": [
    {
     "data": {
      "image/png": "[encoded data removed]",
      "text/plain": [
       "<Figure size 640x480 with 1 Axes>"
      ]
     },
     "metadata": {},
     "output_type": "display_data"
    }
   ],
   "source": [
    "plt.scatter(X_test, y_test, color = 'red')\n",
    "plt.plot(X_train, regressor.predict(X_train), color = 'blue')\n",
    "plt.title('Squad Value vs Points (Test set)')\n",
    "plt.xlabel('Squad Value')\n",
    "plt.ylabel('Points')\n",
    "plt.show()"
   ]
  },
  {
   "cell_type": "code",
   "execution_count": 15,
   "id": "0dcf003f",
   "metadata": {},
   "outputs": [],
   "source": [
    "from sklearn.metrics import mean_absolute_error,mean_squared_error\n",
    "mse=mean_squared_error(y_test,y_pred)\n",
    "mae=mean_absolute_error(y_test,y_pred)\n",
    "rmse=np.sqrt(mse)"
   ]
  },
  {
   "cell_type": "code",
   "execution_count": 16,
   "id": "ebf6a3f6",
   "metadata": {},
   "outputs": [
    {
     "name": "stdout",
     "output_type": "stream",
     "text": [
      "133.1305055642667\n",
      "8.54546699584759\n",
      "11.538219341140413\n"
     ]
    }
   ],
   "source": [
    "print(mse)\n",
    "print(mae)\n",
    "print(rmse)"
   ]
  },
  {
   "cell_type": "code",
   "execution_count": 17,
   "id": "ad03f2c6",
   "metadata": {},
   "outputs": [
    {
     "name": "stdout",
     "output_type": "stream",
     "text": [
      "0.5881153509724897\n"
     ]
    }
   ],
   "source": [
    "from sklearn.metrics import r2_score\n",
    "score=r2_score(y_test,y_pred)\n",
    "print(score)"
   ]
  },
  {
   "cell_type": "markdown",
   "id": "67c6053e",
   "metadata": {},
   "source": [
    "# here r2 score is nearly 59% not so efficient\n",
    "switching regression"
   ]
  },
  {
   "cell_type": "markdown",
   "id": "b7a40433",
   "metadata": {},
   "source": [
    "# Polynomial Regression "
   ]
  },
  {
   "cell_type": "code",
   "execution_count": 18,
   "id": "44910d9b",
   "metadata": {},
   "outputs": [
    {
     "data": {
      "text/html": [
       "<style>#sk-container-id-2 {color: black;}#sk-container-id-2 pre{padding: 0;}#sk-container-id-2 div.sk-toggleable {background-color: white;}#sk-container-id-2 label.sk-toggleable__label {cursor: pointer;display: block;width: 100%;margin-bottom: 0;padding: 0.3em;box-sizing: border-box;text-align: center;}#sk-container-id-2 label.sk-toggleable__label-arrow:before {content: \"▸\";float: left;margin-right: 0.25em;color: #696969;}#sk-container-id-2 label.sk-toggleable__label-arrow:hover:before {color: black;}#sk-container-id-2 div.sk-estimator:hover label.sk-toggleable__label-arrow:before {color: black;}#sk-container-id-2 div.sk-toggleable__content {max-height: 0;max-width: 0;overflow: hidden;text-align: left;background-color: #f0f8ff;}#sk-container-id-2 div.sk-toggleable__content pre {margin: 0.2em;color: black;border-radius: 0.25em;background-color: #f0f8ff;}#sk-container-id-2 input.sk-toggleable__control:checked~div.sk-toggleable__content {max-height: 200px;max-width: 100%;overflow: auto;}#sk-container-id-2 input.sk-toggleable__control:checked~label.sk-toggleable__label-arrow:before {content: \"▾\";}#sk-container-id-2 div.sk-estimator input.sk-toggleable__control:checked~label.sk-toggleable__label {background-color: #d4ebff;}#sk-container-id-2 div.sk-label input.sk-toggleable__control:checked~label.sk-toggleable__label {background-color: #d4ebff;}#sk-container-id-2 input.sk-hidden--visually {border: 0;clip: rect(1px 1px 1px 1px);clip: rect(1px, 1px, 1px, 1px);height: 1px;margin: -1px;overflow: hidden;padding: 0;position: absolute;width: 1px;}#sk-container-id-2 div.sk-estimator {font-family: monospace;background-color: #f0f8ff;border: 1px dotted black;border-radius: 0.25em;box-sizing: border-box;margin-bottom: 0.5em;}#sk-container-id-2 div.sk-estimator:hover {background-color: #d4ebff;}#sk-container-id-2 div.sk-parallel-item::after {content: \"\";width: 100%;border-bottom: 1px solid gray;flex-grow: 1;}#sk-container-id-2 div.sk-label:hover label.sk-toggleable__label {background-color: #d4ebff;}#sk-container-id-2 div.sk-serial::before {content: \"\";position: absolute;border-left: 1px solid gray;box-sizing: border-box;top: 0;bottom: 0;left: 50%;z-index: 0;}#sk-container-id-2 div.sk-serial {display: flex;flex-direction: column;align-items: center;background-color: white;padding-right: 0.2em;padding-left: 0.2em;position: relative;}#sk-container-id-2 div.sk-item {position: relative;z-index: 1;}#sk-container-id-2 div.sk-parallel {display: flex;align-items: stretch;justify-content: center;background-color: white;position: relative;}#sk-container-id-2 div.sk-item::before, #sk-container-id-2 div.sk-parallel-item::before {content: \"\";position: absolute;border-left: 1px solid gray;box-sizing: border-box;top: 0;bottom: 0;left: 50%;z-index: -1;}#sk-container-id-2 div.sk-parallel-item {display: flex;flex-direction: column;z-index: 1;position: relative;background-color: white;}#sk-container-id-2 div.sk-parallel-item:first-child::after {align-self: flex-end;width: 50%;}#sk-container-id-2 div.sk-parallel-item:last-child::after {align-self: flex-start;width: 50%;}#sk-container-id-2 div.sk-parallel-item:only-child::after {width: 0;}#sk-container-id-2 div.sk-dashed-wrapped {border: 1px dashed gray;margin: 0 0.4em 0.5em 0.4em;box-sizing: border-box;padding-bottom: 0.4em;background-color: white;}#sk-container-id-2 div.sk-label label {font-family: monospace;font-weight: bold;display: inline-block;line-height: 1.2em;}#sk-container-id-2 div.sk-label-container {text-align: center;}#sk-container-id-2 div.sk-container {/* jupyter's `normalize.less` sets `[hidden] { display: none; }` but bootstrap.min.css set `[hidden] { display: none !important; }` so we also need the `!important` here to be able to override the default hidden behavior on the sphinx rendered scikit-learn.org. See: https://github.com/scikit-learn/scikit-learn/issues/21755 */display: inline-block !important;position: relative;}#sk-container-id-2 div.sk-text-repr-fallback {display: none;}</style><div id=\"sk-container-id-2\" class=\"sk-top-container\"><div class=\"sk-text-repr-fallback\"><pre>LinearRegression()</pre><b>In a Jupyter environment, please rerun this cell to show the HTML representation or trust the notebook. <br />On GitHub, the HTML representation is unable to render, please try loading this page with nbviewer.org.</b></div><div class=\"sk-container\" hidden><div class=\"sk-item\"><div class=\"sk-estimator sk-toggleable\"><input class=\"sk-toggleable__control sk-hidden--visually\" id=\"sk-estimator-id-2\" type=\"checkbox\" checked><label for=\"sk-estimator-id-2\" class=\"sk-toggleable__label sk-toggleable__label-arrow\">LinearRegression</label><div class=\"sk-toggleable__content\"><pre>LinearRegression()</pre></div></div></div></div></div>"
      ],
      "text/plain": [
       "LinearRegression()"
      ]
     },
     "execution_count": 18,
     "metadata": {},
     "output_type": "execute_result"
    }
   ],
   "source": [
    "from sklearn.preprocessing import PolynomialFeatures\n",
    "from sklearn.linear_model import LinearRegression\n",
    "poly_reg = PolynomialFeatures(degree = 4)\n",
    "X_poly = poly_reg.fit_transform(X_train)\n",
    "regressor = LinearRegression()\n",
    "regressor.fit(X_poly, y_train)"
   ]
  },
  {
   "cell_type": "code",
   "execution_count": 19,
   "id": "ebc43cad",
   "metadata": {},
   "outputs": [
    {
     "name": "stdout",
     "output_type": "stream",
     "text": [
      "[[ 40.91  51.  ]\n",
      " [ 39.7   31.  ]\n",
      " [ 40.41  52.  ]\n",
      " [ 73.72  93.  ]\n",
      " [ 77.79  69.  ]\n",
      " [ 72.92  66.  ]\n",
      " [ 65.98  69.  ]\n",
      " [ 40.54  42.  ]\n",
      " [ 39.97  34.  ]\n",
      " [ 39.96  56.  ]\n",
      " [ 46.78  62.  ]\n",
      " [ 49.74  50.  ]\n",
      " [ 40.22  43.  ]\n",
      " [ 51.03  41.  ]\n",
      " [ 85.48  97.  ]\n",
      " [ 45.84  33.  ]\n",
      " [146.07  72.  ]\n",
      " [ 39.81  36.  ]\n",
      " [ 51.3   72.  ]\n",
      " [ 39.8   25.  ]\n",
      " [ 39.7   46.  ]\n",
      " [ 39.75  41.  ]\n",
      " [ 39.85  34.  ]\n",
      " [ 65.49  70.  ]\n",
      " [ 40.6   50.  ]\n",
      " [ 40.9   38.  ]\n",
      " [ 78.4   64.  ]\n",
      " [ 78.35  89.  ]\n",
      " [ 41.2   41.  ]\n",
      " [ 41.78  45.  ]\n",
      " [ 39.8   40.  ]\n",
      " [ 40.08  53.  ]\n",
      " [ 43.37  33.  ]\n",
      " [ 41.46  34.  ]\n",
      " [ 63.48  64.  ]\n",
      " [ 40.33  42.  ]\n",
      " [ 39.78  44.  ]\n",
      " [ 67.19  60.  ]\n",
      " [ 40.54  37.  ]\n",
      " [ 40.12  17.  ]\n",
      " [ 47.44  56.  ]\n",
      " [ 39.74  39.  ]\n",
      " [ 40.76  63.  ]\n",
      " [ 39.7   81.  ]\n",
      " [ 40.29  44.  ]\n",
      " [ 41.62  41.  ]\n",
      " [ 78.62  75.  ]\n",
      " [ 67.72  52.  ]\n",
      " [ 40.57  32.  ]\n",
      " [ 56.79  70.  ]\n",
      " [146.07  98.  ]\n",
      " [ 49.36  47.  ]\n",
      " [ 68.69  63.  ]\n",
      " [ 72.73 100.  ]\n",
      " [ 63.16  62.  ]\n",
      " [ 44.58  44.  ]\n",
      " [ 50.58  51.  ]\n",
      " [ 44.95  50.  ]\n",
      " [ 39.79  41.  ]\n",
      " [ 64.36  68.  ]\n",
      " [ 78.1   66.  ]\n",
      " [ 39.72  46.  ]\n",
      " [ 40.83  50.  ]\n",
      " [ 41.19  41.  ]\n",
      " [ 51.9   61.  ]\n",
      " [ 39.81  47.  ]\n",
      " [ 77.88  71.  ]\n",
      " [ 39.83  51.  ]\n",
      " [ 40.23  37.  ]\n",
      " [ 65.09  72.  ]\n",
      " [ 60.94  75.  ]\n",
      " [ 39.77  19.  ]\n",
      " [ 78.46  64.  ]\n",
      " [ 39.75  47.  ]]\n"
     ]
    }
   ],
   "source": [
    "y_pred = regressor.predict(poly_reg.transform(X_test))\n",
    "np.set_printoptions(precision=2)\n",
    "print(np.concatenate((y_pred.reshape(len(y_pred),1), y_test.reshape(len(y_test),1)),1))"
   ]
  },
  {
   "cell_type": "code",
   "execution_count": 20,
   "id": "fb9485bd",
   "metadata": {},
   "outputs": [],
   "source": [
    "from sklearn.metrics import mean_absolute_error,mean_squared_error\n",
    "mse=mean_squared_error(y_test,y_pred)\n",
    "mae=mean_absolute_error(y_test,y_pred)\n",
    "rmse=np.sqrt(mse)"
   ]
  },
  {
   "cell_type": "code",
   "execution_count": 21,
   "id": "dc638d8a",
   "metadata": {},
   "outputs": [
    {
     "name": "stdout",
     "output_type": "stream",
     "text": [
      "227.43729241510147\n",
      "9.868957059342337\n",
      "15.081024249536284\n"
     ]
    }
   ],
   "source": [
    "print(mse)\n",
    "print(mae)\n",
    "print(rmse)"
   ]
  },
  {
   "cell_type": "code",
   "execution_count": 22,
   "id": "e2c96f64",
   "metadata": {},
   "outputs": [
    {
     "data": {
      "image/png": "[encoded data removed]",
      "text/plain": [
       "<Figure size 640x480 with 1 Axes>"
      ]
     },
     "metadata": {},
     "output_type": "display_data"
    }
   ],
   "source": [
    "X_grid = np.arange(min(X), max(X), 0.1)\n",
    "X_grid = X_grid.reshape((len(X_grid), 1))\n",
    "plt.scatter(X, y, color = 'red')\n",
    "plt.plot(X_grid, regressor.predict(poly_reg.fit_transform(X_grid)), color = 'blue')\n",
    "plt.title('Polynomial Regression')\n",
    "plt.xlabel('Squad Value')\n",
    "plt.ylabel('Points')\n",
    "plt.show()"
   ]
  },
  {
   "cell_type": "code",
   "execution_count": 23,
   "id": "b5b54a2b",
   "metadata": {},
   "outputs": [
    {
     "data": {
      "text/plain": [
       "0.2963451241688576"
      ]
     },
     "execution_count": 23,
     "metadata": {},
     "output_type": "execute_result"
    }
   ],
   "source": [
    "from sklearn.metrics import r2_score\n",
    "r2_score(y_test, y_pred)"
   ]
  },
  {
   "cell_type": "markdown",
   "id": "166a3d44",
   "metadata": {},
   "source": [
    "Since R2 score is 29% ie not prefrerrable polynomial regression"
   ]
  },
  {
   "cell_type": "markdown",
   "id": "ed058490",
   "metadata": {},
   "source": [
    "# Using SVR"
   ]
  },
  {
   "cell_type": "code",
   "execution_count": 24,
   "id": "2ca180d4",
   "metadata": {},
   "outputs": [],
   "source": [
    "from sklearn.preprocessing import StandardScaler\n",
    "sc_X = StandardScaler()\n",
    "sc_y = StandardScaler()\n",
    "X_train = sc_X.fit_transform(X_train)\n",
    "y_train = sc_y.fit_transform(y_train)"
   ]
  },
  {
   "cell_type": "code",
   "execution_count": 25,
   "id": "04d65b92",
   "metadata": {},
   "outputs": [
    {
     "name": "stderr",
     "output_type": "stream",
     "text": [
      "C:\\Users\\raj37\\anaconda3\\Lib\\site-packages\\sklearn\\utils\\validation.py:1184: DataConversionWarning: A column-vector y was passed when a 1d array was expected. Please change the shape of y to (n_samples, ), for example using ravel().\n",
      "  y = column_or_1d(y, warn=True)\n"
     ]
    },
    {
     "data": {
      "text/html": [
       "<style>#sk-container-id-3 {color: black;}#sk-container-id-3 pre{padding: 0;}#sk-container-id-3 div.sk-toggleable {background-color: white;}#sk-container-id-3 label.sk-toggleable__label {cursor: pointer;display: block;width: 100%;margin-bottom: 0;padding: 0.3em;box-sizing: border-box;text-align: center;}#sk-container-id-3 label.sk-toggleable__label-arrow:before {content: \"▸\";float: left;margin-right: 0.25em;color: #696969;}#sk-container-id-3 label.sk-toggleable__label-arrow:hover:before {color: black;}#sk-container-id-3 div.sk-estimator:hover label.sk-toggleable__label-arrow:before {color: black;}#sk-container-id-3 div.sk-toggleable__content {max-height: 0;max-width: 0;overflow: hidden;text-align: left;background-color: #f0f8ff;}#sk-container-id-3 div.sk-toggleable__content pre {margin: 0.2em;color: black;border-radius: 0.25em;background-color: #f0f8ff;}#sk-container-id-3 input.sk-toggleable__control:checked~div.sk-toggleable__content {max-height: 200px;max-width: 100%;overflow: auto;}#sk-container-id-3 input.sk-toggleable__control:checked~label.sk-toggleable__label-arrow:before {content: \"▾\";}#sk-container-id-3 div.sk-estimator input.sk-toggleable__control:checked~label.sk-toggleable__label {background-color: #d4ebff;}#sk-container-id-3 div.sk-label input.sk-toggleable__control:checked~label.sk-toggleable__label {background-color: #d4ebff;}#sk-container-id-3 input.sk-hidden--visually {border: 0;clip: rect(1px 1px 1px 1px);clip: rect(1px, 1px, 1px, 1px);height: 1px;margin: -1px;overflow: hidden;padding: 0;position: absolute;width: 1px;}#sk-container-id-3 div.sk-estimator {font-family: monospace;background-color: #f0f8ff;border: 1px dotted black;border-radius: 0.25em;box-sizing: border-box;margin-bottom: 0.5em;}#sk-container-id-3 div.sk-estimator:hover {background-color: #d4ebff;}#sk-container-id-3 div.sk-parallel-item::after {content: \"\";width: 100%;border-bottom: 1px solid gray;flex-grow: 1;}#sk-container-id-3 div.sk-label:hover label.sk-toggleable__label {background-color: #d4ebff;}#sk-container-id-3 div.sk-serial::before {content: \"\";position: absolute;border-left: 1px solid gray;box-sizing: border-box;top: 0;bottom: 0;left: 50%;z-index: 0;}#sk-container-id-3 div.sk-serial {display: flex;flex-direction: column;align-items: center;background-color: white;padding-right: 0.2em;padding-left: 0.2em;position: relative;}#sk-container-id-3 div.sk-item {position: relative;z-index: 1;}#sk-container-id-3 div.sk-parallel {display: flex;align-items: stretch;justify-content: center;background-color: white;position: relative;}#sk-container-id-3 div.sk-item::before, #sk-container-id-3 div.sk-parallel-item::before {content: \"\";position: absolute;border-left: 1px solid gray;box-sizing: border-box;top: 0;bottom: 0;left: 50%;z-index: -1;}#sk-container-id-3 div.sk-parallel-item {display: flex;flex-direction: column;z-index: 1;position: relative;background-color: white;}#sk-container-id-3 div.sk-parallel-item:first-child::after {align-self: flex-end;width: 50%;}#sk-container-id-3 div.sk-parallel-item:last-child::after {align-self: flex-start;width: 50%;}#sk-container-id-3 div.sk-parallel-item:only-child::after {width: 0;}#sk-container-id-3 div.sk-dashed-wrapped {border: 1px dashed gray;margin: 0 0.4em 0.5em 0.4em;box-sizing: border-box;padding-bottom: 0.4em;background-color: white;}#sk-container-id-3 div.sk-label label {font-family: monospace;font-weight: bold;display: inline-block;line-height: 1.2em;}#sk-container-id-3 div.sk-label-container {text-align: center;}#sk-container-id-3 div.sk-container {/* jupyter's `normalize.less` sets `[hidden] { display: none; }` but bootstrap.min.css set `[hidden] { display: none !important; }` so we also need the `!important` here to be able to override the default hidden behavior on the sphinx rendered scikit-learn.org. See: https://github.com/scikit-learn/scikit-learn/issues/21755 */display: inline-block !important;position: relative;}#sk-container-id-3 div.sk-text-repr-fallback {display: none;}</style><div id=\"sk-container-id-3\" class=\"sk-top-container\"><div class=\"sk-text-repr-fallback\"><pre>SVR()</pre><b>In a Jupyter environment, please rerun this cell to show the HTML representation or trust the notebook. <br />On GitHub, the HTML representation is unable to render, please try loading this page with nbviewer.org.</b></div><div class=\"sk-container\" hidden><div class=\"sk-item\"><div class=\"sk-estimator sk-toggleable\"><input class=\"sk-toggleable__control sk-hidden--visually\" id=\"sk-estimator-id-3\" type=\"checkbox\" checked><label for=\"sk-estimator-id-3\" class=\"sk-toggleable__label sk-toggleable__label-arrow\">SVR</label><div class=\"sk-toggleable__content\"><pre>SVR()</pre></div></div></div></div></div>"
      ],
      "text/plain": [
       "SVR()"
      ]
     },
     "execution_count": 25,
     "metadata": {},
     "output_type": "execute_result"
    }
   ],
   "source": [
    "from sklearn.svm import SVR\n",
    "regressor = SVR(kernel = 'rbf')\n",
    "regressor.fit(X_train, y_train)"
   ]
  },
  {
   "cell_type": "code",
   "execution_count": 26,
   "id": "e787be0b",
   "metadata": {},
   "outputs": [
    {
     "name": "stdout",
     "output_type": "stream",
     "text": [
      "[[ 40.73  51.  ]\n",
      " [ 41.42  31.  ]\n",
      " [ 40.78  52.  ]\n",
      " [ 71.98  93.  ]\n",
      " [ 75.96  69.  ]\n",
      " [ 77.15  66.  ]\n",
      " [ 67.1   69.  ]\n",
      " [ 40.76  42.  ]\n",
      " [ 41.97  34.  ]\n",
      " [ 40.95  56.  ]\n",
      " [ 43.1   62.  ]\n",
      " [ 45.49  50.  ]\n",
      " [ 40.83  43.  ]\n",
      " [ 46.73  41.  ]\n",
      " [ 64.97  97.  ]\n",
      " [ 42.48  33.  ]\n",
      " [ 62.51  72.  ]\n",
      " [ 41.75  36.  ]\n",
      " [ 46.99  72.  ]\n",
      " [ 41.73  25.  ]\n",
      " [ 41.33  46.  ]\n",
      " [ 41.63  41.  ]\n",
      " [ 41.04  34.  ]\n",
      " [ 66.34  70.  ]\n",
      " [ 42.53  50.  ]\n",
      " [ 40.73  38.  ]\n",
      " [ 77.53  64.  ]\n",
      " [ 80.45  89.  ]\n",
      " [ 40.73  41.  ]\n",
      " [ 43.22  45.  ]\n",
      " [ 41.74  40.  ]\n",
      " [ 42.09  53.  ]\n",
      " [ 43.93  33.  ]\n",
      " [ 40.75  34.  ]\n",
      " [ 63.23  64.  ]\n",
      " [ 42.32  42.  ]\n",
      " [ 41.12  44.  ]\n",
      " [ 68.97  60.  ]\n",
      " [ 42.49  37.  ]\n",
      " [ 40.86  17.  ]\n",
      " [ 43.57  56.  ]\n",
      " [ 41.6   39.  ]\n",
      " [ 40.73  63.  ]\n",
      " [ 41.4   81.  ]\n",
      " [ 40.81  44.  ]\n",
      " [ 40.78  41.  ]\n",
      " [ 78.69  75.  ]\n",
      " [ 69.77  52.  ]\n",
      " [ 42.5   32.  ]\n",
      " [ 53.51  70.  ]\n",
      " [ 62.51  98.  ]\n",
      " [ 45.14  47.  ]\n",
      " [ 71.24  63.  ]\n",
      " [ 71.58 100.  ]\n",
      " [ 62.73  62.  ]\n",
      " [ 41.78  44.  ]\n",
      " [ 46.28  51.  ]\n",
      " [ 41.97  50.  ]\n",
      " [ 41.11  41.  ]\n",
      " [ 64.59  68.  ]\n",
      " [ 80.72  66.  ]\n",
      " [ 41.24  46.  ]\n",
      " [ 40.73  50.  ]\n",
      " [ 42.9   41.  ]\n",
      " [ 47.62  61.  ]\n",
      " [ 41.75  47.  ]\n",
      " [ 80.85  71.  ]\n",
      " [ 41.78  51.  ]\n",
      " [ 42.23  37.  ]\n",
      " [ 65.71  72.  ]\n",
      " [ 59.38  75.  ]\n",
      " [ 41.14  19.  ]\n",
      " [ 80.22  64.  ]\n",
      " [ 41.61  47.  ]]\n"
     ]
    }
   ],
   "source": [
    "y_pred = sc_y.inverse_transform(regressor.predict(sc_X.transform(X_test)).reshape(-1,1))\n",
    "np.set_printoptions(precision=2)\n",
    "print(np.concatenate((y_pred.reshape(len(y_pred),1), y_test.reshape(len(y_test),1)),1))"
   ]
  },
  {
   "cell_type": "code",
   "execution_count": 27,
   "id": "8841ed5a",
   "metadata": {},
   "outputs": [],
   "source": [
    "from sklearn.metrics import mean_absolute_error,mean_squared_error\n",
    "mse=mean_squared_error(y_test,y_pred)\n",
    "mae=mean_absolute_error(y_test,y_pred)\n",
    "rmse=np.sqrt(mse)"
   ]
  },
  {
   "cell_type": "code",
   "execution_count": 28,
   "id": "48830e68",
   "metadata": {},
   "outputs": [
    {
     "name": "stdout",
     "output_type": "stream",
     "text": [
      "164.77261099606923\n",
      "9.610519544156869\n",
      "12.83637842212784\n"
     ]
    }
   ],
   "source": [
    "print(mse)\n",
    "print(mae)\n",
    "print(rmse)"
   ]
  },
  {
   "cell_type": "code",
   "execution_count": 29,
   "id": "e0869fad",
   "metadata": {},
   "outputs": [
    {
     "data": {
      "image/png": "[encoded data removed]",
      "text/plain": [
       "<Figure size 640x480 with 1 Axes>"
      ]
     },
     "metadata": {},
     "output_type": "display_data"
    }
   ],
   "source": [
    "X_grid = np.arange(min(sc_X.inverse_transform(X_train)), max(sc_X.inverse_transform(X_train)), 0.1)\n",
    "X_grid = X_grid.reshape((len(X_grid), 1))\n",
    "plt.scatter(sc_X.inverse_transform(X_train), sc_y.inverse_transform(y_train), color = 'red')\n",
    "plt.plot(X_grid, sc_y.inverse_transform(regressor.predict(sc_X.transform(X_grid)).reshape(-1,1)), color = 'blue')\n",
    "plt.title('SVR')\n",
    "plt.xlabel('Squad Value')\n",
    "plt.ylabel('Points')\n",
    "plt.show()"
   ]
  },
  {
   "cell_type": "code",
   "execution_count": null,
   "id": "d7c785ee",
   "metadata": {},
   "outputs": [],
   "source": []
  },
  {
   "cell_type": "code",
   "execution_count": 30,
   "id": "a0d49f12",
   "metadata": {},
   "outputs": [
    {
     "data": {
      "text/plain": [
       "0.4902197001219937"
      ]
     },
     "execution_count": 30,
     "metadata": {},
     "output_type": "execute_result"
    }
   ],
   "source": [
    "from sklearn.metrics import r2_score\n",
    "r2_score(y_test, y_pred)"
   ]
  },
  {
   "cell_type": "markdown",
   "id": "00376f17",
   "metadata": {},
   "source": [
    "Since SVR gives 46.6% R2 score moving to Random forest"
   ]
  },
  {
   "cell_type": "markdown",
   "id": "252d60b3",
   "metadata": {},
   "source": [
    "# Random Forest Regression"
   ]
  },
  {
   "cell_type": "code",
   "execution_count": 46,
   "id": "2051afda",
   "metadata": {},
   "outputs": [
    {
     "name": "stderr",
     "output_type": "stream",
     "text": [
      "C:\\Users\\raj37\\anaconda3\\Lib\\site-packages\\sklearn\\base.py:1151: DataConversionWarning: A column-vector y was passed when a 1d array was expected. Please change the shape of y to (n_samples,), for example using ravel().\n",
      "  return fit_method(estimator, *args, **kwargs)\n"
     ]
    },
    {
     "data": {
      "text/html": [
       "<style>#sk-container-id-5 {color: black;}#sk-container-id-5 pre{padding: 0;}#sk-container-id-5 div.sk-toggleable {background-color: white;}#sk-container-id-5 label.sk-toggleable__label {cursor: pointer;display: block;width: 100%;margin-bottom: 0;padding: 0.3em;box-sizing: border-box;text-align: center;}#sk-container-id-5 label.sk-toggleable__label-arrow:before {content: \"▸\";float: left;margin-right: 0.25em;color: #696969;}#sk-container-id-5 label.sk-toggleable__label-arrow:hover:before {color: black;}#sk-container-id-5 div.sk-estimator:hover label.sk-toggleable__label-arrow:before {color: black;}#sk-container-id-5 div.sk-toggleable__content {max-height: 0;max-width: 0;overflow: hidden;text-align: left;background-color: #f0f8ff;}#sk-container-id-5 div.sk-toggleable__content pre {margin: 0.2em;color: black;border-radius: 0.25em;background-color: #f0f8ff;}#sk-container-id-5 input.sk-toggleable__control:checked~div.sk-toggleable__content {max-height: 200px;max-width: 100%;overflow: auto;}#sk-container-id-5 input.sk-toggleable__control:checked~label.sk-toggleable__label-arrow:before {content: \"▾\";}#sk-container-id-5 div.sk-estimator input.sk-toggleable__control:checked~label.sk-toggleable__label {background-color: #d4ebff;}#sk-container-id-5 div.sk-label input.sk-toggleable__control:checked~label.sk-toggleable__label {background-color: #d4ebff;}#sk-container-id-5 input.sk-hidden--visually {border: 0;clip: rect(1px 1px 1px 1px);clip: rect(1px, 1px, 1px, 1px);height: 1px;margin: -1px;overflow: hidden;padding: 0;position: absolute;width: 1px;}#sk-container-id-5 div.sk-estimator {font-family: monospace;background-color: #f0f8ff;border: 1px dotted black;border-radius: 0.25em;box-sizing: border-box;margin-bottom: 0.5em;}#sk-container-id-5 div.sk-estimator:hover {background-color: #d4ebff;}#sk-container-id-5 div.sk-parallel-item::after {content: \"\";width: 100%;border-bottom: 1px solid gray;flex-grow: 1;}#sk-container-id-5 div.sk-label:hover label.sk-toggleable__label {background-color: #d4ebff;}#sk-container-id-5 div.sk-serial::before {content: \"\";position: absolute;border-left: 1px solid gray;box-sizing: border-box;top: 0;bottom: 0;left: 50%;z-index: 0;}#sk-container-id-5 div.sk-serial {display: flex;flex-direction: column;align-items: center;background-color: white;padding-right: 0.2em;padding-left: 0.2em;position: relative;}#sk-container-id-5 div.sk-item {position: relative;z-index: 1;}#sk-container-id-5 div.sk-parallel {display: flex;align-items: stretch;justify-content: center;background-color: white;position: relative;}#sk-container-id-5 div.sk-item::before, #sk-container-id-5 div.sk-parallel-item::before {content: \"\";position: absolute;border-left: 1px solid gray;box-sizing: border-box;top: 0;bottom: 0;left: 50%;z-index: -1;}#sk-container-id-5 div.sk-parallel-item {display: flex;flex-direction: column;z-index: 1;position: relative;background-color: white;}#sk-container-id-5 div.sk-parallel-item:first-child::after {align-self: flex-end;width: 50%;}#sk-container-id-5 div.sk-parallel-item:last-child::after {align-self: flex-start;width: 50%;}#sk-container-id-5 div.sk-parallel-item:only-child::after {width: 0;}#sk-container-id-5 div.sk-dashed-wrapped {border: 1px dashed gray;margin: 0 0.4em 0.5em 0.4em;box-sizing: border-box;padding-bottom: 0.4em;background-color: white;}#sk-container-id-5 div.sk-label label {font-family: monospace;font-weight: bold;display: inline-block;line-height: 1.2em;}#sk-container-id-5 div.sk-label-container {text-align: center;}#sk-container-id-5 div.sk-container {/* jupyter's `normalize.less` sets `[hidden] { display: none; }` but bootstrap.min.css set `[hidden] { display: none !important; }` so we also need the `!important` here to be able to override the default hidden behavior on the sphinx rendered scikit-learn.org. See: https://github.com/scikit-learn/scikit-learn/issues/21755 */display: inline-block !important;position: relative;}#sk-container-id-5 div.sk-text-repr-fallback {display: none;}</style><div id=\"sk-container-id-5\" class=\"sk-top-container\"><div class=\"sk-text-repr-fallback\"><pre>RandomForestRegressor(n_estimators=12, random_state=0)</pre><b>In a Jupyter environment, please rerun this cell to show the HTML representation or trust the notebook. <br />On GitHub, the HTML representation is unable to render, please try loading this page with nbviewer.org.</b></div><div class=\"sk-container\" hidden><div class=\"sk-item\"><div class=\"sk-estimator sk-toggleable\"><input class=\"sk-toggleable__control sk-hidden--visually\" id=\"sk-estimator-id-5\" type=\"checkbox\" checked><label for=\"sk-estimator-id-5\" class=\"sk-toggleable__label sk-toggleable__label-arrow\">RandomForestRegressor</label><div class=\"sk-toggleable__content\"><pre>RandomForestRegressor(n_estimators=12, random_state=0)</pre></div></div></div></div></div>"
      ],
      "text/plain": [
       "RandomForestRegressor(n_estimators=12, random_state=0)"
      ]
     },
     "execution_count": 46,
     "metadata": {},
     "output_type": "execute_result"
    }
   ],
   "source": [
    "from sklearn.ensemble import RandomForestRegressor\n",
    "regressor = RandomForestRegressor(n_estimators = 12, random_state = 0)\n",
    "regressor.fit(X, y)"
   ]
  },
  {
   "cell_type": "code",
   "execution_count": 47,
   "id": "1cb999af",
   "metadata": {},
   "outputs": [
    {
     "data": {
      "text/plain": [
       "array([41.583])"
      ]
     },
     "execution_count": 47,
     "metadata": {},
     "output_type": "execute_result"
    }
   ],
   "source": [
    "y_pred =regressor.predict([[6.5]])\n",
    "y_pred"
   ]
  },
  {
   "cell_type": "code",
   "execution_count": 48,
   "id": "9f2bbe63",
   "metadata": {},
   "outputs": [
    {
     "name": "stdout",
     "output_type": "stream",
     "text": [
      "[[ 46.903  51.   ]\n",
      " [ 38.917  31.   ]\n",
      " [ 46.667  52.   ]\n",
      " [ 79.667  93.   ]\n",
      " [ 71.167  69.   ]\n",
      " [ 67.583  66.   ]\n",
      " [ 68.75   69.   ]\n",
      " [ 42.333  42.   ]\n",
      " [ 33.333  34.   ]\n",
      " [ 47.5    56.   ]\n",
      " [ 60.25   62.   ]\n",
      " [ 48.917  50.   ]\n",
      " [ 41.417  43.   ]\n",
      " [ 42.25   41.   ]\n",
      " [ 77.583  97.   ]\n",
      " [ 37.417  33.   ]\n",
      " [ 81.486  72.   ]\n",
      " [ 40.     36.   ]\n",
      " [ 56.5    72.   ]\n",
      " [ 31.333  25.   ]\n",
      " [ 45.167  46.   ]\n",
      " [ 41.833  41.   ]\n",
      " [ 38.25   34.   ]\n",
      " [ 69.25   70.   ]\n",
      " [ 44.     50.   ]\n",
      " [ 38.515  38.   ]\n",
      " [ 68.167  64.   ]\n",
      " [ 77.667  89.   ]\n",
      " [ 42.25   41.   ]\n",
      " [ 37.5    45.   ]\n",
      " [ 37.583  40.   ]\n",
      " [ 41.417  53.   ]\n",
      " [ 35.583  33.   ]\n",
      " [ 34.     34.   ]\n",
      " [ 65.167  64.   ]\n",
      " [ 41.833  42.   ]\n",
      " [ 42.667  44.   ]\n",
      " [ 60.25   60.   ]\n",
      " [ 39.     37.   ]\n",
      " [ 26.417  17.   ]\n",
      " [ 54.167  56.   ]\n",
      " [ 39.667  39.   ]\n",
      " [ 59.083  63.   ]\n",
      " [ 69.75   81.   ]\n",
      " [ 42.167  44.   ]\n",
      " [ 41.833  41.   ]\n",
      " [ 76.417  75.   ]\n",
      " [ 58.5    52.   ]\n",
      " [ 36.333  32.   ]\n",
      " [ 67.667  70.   ]\n",
      " [ 81.486  98.   ]\n",
      " [ 46.917  47.   ]\n",
      " [ 62.     63.   ]\n",
      " [ 92.667 100.   ]\n",
      " [ 65.083  62.   ]\n",
      " [ 43.75   44.   ]\n",
      " [ 48.5    51.   ]\n",
      " [ 47.167  50.   ]\n",
      " [ 41.167  41.   ]\n",
      " [ 68.333  68.   ]\n",
      " [ 72.333  66.   ]\n",
      " [ 45.833  46.   ]\n",
      " [ 44.896  50.   ]\n",
      " [ 40.917  41.   ]\n",
      " [ 56.917  61.   ]\n",
      " [ 46.417  47.   ]\n",
      " [ 75.25   71.   ]\n",
      " [ 50.333  51.   ]\n",
      " [ 39.083  37.   ]\n",
      " [ 66.833  72.   ]\n",
      " [ 68.167  75.   ]\n",
      " [ 32.167  19.   ]\n",
      " [ 68.583  64.   ]\n",
      " [ 43.667  47.   ]]\n"
     ]
    }
   ],
   "source": [
    "y_pred = regressor.predict(X_test)\n",
    "np.set_printoptions(precision=3)\n",
    "print(np.concatenate((y_pred.reshape(len(y_pred),1), y_test.reshape(len(y_test),1)),1))"
   ]
  },
  {
   "cell_type": "raw",
   "id": "9c911614",
   "metadata": {},
   "source": [
    "from sklearn.metrics import mean_absolute_error,mean_squared_error\n",
    "mse=mean_squared_error(y_test,y_pred)\n",
    "mae=mean_absolute_error(y_test,y_pred)\n",
    "rmse=np.sqrt(mse)"
   ]
  },
  {
   "cell_type": "code",
   "execution_count": 49,
   "id": "e39ef87a",
   "metadata": {},
   "outputs": [
    {
     "name": "stdout",
     "output_type": "stream",
     "text": [
      "164.77261099606923\n",
      "9.610519544156869\n",
      "12.83637842212784\n"
     ]
    }
   ],
   "source": [
    "print(mse)\n",
    "print(mae)\n",
    "print(rmse)"
   ]
  },
  {
   "cell_type": "code",
   "execution_count": 51,
   "id": "8595db78",
   "metadata": {},
   "outputs": [
    {
     "data": {
      "image/png": "[encoded data removed]",
      "text/plain": [
       "<Figure size 640x480 with 1 Axes>"
      ]
     },
     "metadata": {},
     "output_type": "display_data"
    }
   ],
   "source": [
    "X_grid = np.arange(min(X), max(X), 0.01)\n",
    "X_grid = X_grid.reshape((len(X_grid), 1))\n",
    "\n",
    "plt.scatter(X, y, color='red')\n",
    "plt.plot(X_grid, regressor.predict(X_grid), color='blue')\n",
    "plt.title('Random Forest Regression')\n",
    "plt.xlabel('Squad Value')\n",
    "plt.ylabel('Points')\n",
    "plt.show()"
   ]
  },
  {
   "cell_type": "code",
   "execution_count": 52,
   "id": "95105ae1",
   "metadata": {},
   "outputs": [
    {
     "data": {
      "text/plain": [
       "0.8907097639871191"
      ]
     },
     "execution_count": 52,
     "metadata": {},
     "output_type": "execute_result"
    }
   ],
   "source": [
    "from sklearn.metrics import r2_score\n",
    "r2_score(y_test, y_pred)"
   ]
  },
  {
   "cell_type": "code",
   "execution_count": null,
   "id": "d32c3334",
   "metadata": {},
   "outputs": [],
   "source": []
  },
  {
   "cell_type": "markdown",
   "id": "064c1537",
   "metadata": {},
   "source": [
    "# Upon checking all the regression values we find that the R2 score of random forest regression is the most ie that regression should be used in this case."
   ]
  },
  {
   "cell_type": "markdown",
   "id": "1db2a37e",
   "metadata": {},
   "source": [
    "Since as a manager we needed to check how was a particular club preformance(total poinys) based on squad value so we had only one feature which was squad value and used label points \n",
    "ie it was theoritically better to use simple linear regression in this instance but since its R2 score is less it is not being used"
   ]
  },
  {
   "cell_type": "markdown",
   "id": "5e7140ac",
   "metadata": {},
   "source": [
    "ps:for random forest regression model plotted on whole dataset rather than divind into training and test set as it would show same values of y_pred for every case"
   ]
  },
  {
   "cell_type": "code",
   "execution_count": null,
   "id": "de852f47",
   "metadata": {},
   "outputs": [],
   "source": []
  }
 ],
 "metadata": {
  "kernelspec": {
   "display_name": "Python 3 (ipykernel)",
   "language": "python",
   "name": "python3"
  },
  "language_info": {
   "codemirror_mode": {
    "name": "ipython",
    "version": 3
   },
   "file_extension": ".py",
   "mimetype": "text/x-python",
   "name": "python",
   "nbconvert_exporter": "python",
   "pygments_lexer": "ipython3",
   "version": "3.11.5"
  }
 },
 "nbformat": 4,
 "nbformat_minor": 5
}
